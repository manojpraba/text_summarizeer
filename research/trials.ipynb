{
 "cells": [
  {
   "cell_type": "code",
   "execution_count": 1,
   "metadata": {},
   "outputs": [
    {
     "name": "stderr",
     "output_type": "stream",
     "text": [
      "c:\\DL projects\\text_summarize_scratch\\text_summarizeer\\env_txt\\lib\\site-packages\\tqdm\\auto.py:21: TqdmWarning: IProgress not found. Please update jupyter and ipywidgets. See https://ipywidgets.readthedocs.io/en/stable/user_install.html\n",
      "  from .autonotebook import tqdm as notebook_tqdm\n",
      "No model was supplied, defaulted to sshleifer/distilbart-cnn-12-6 and revision a4f8f3e (https://huggingface.co/sshleifer/distilbart-cnn-12-6).\n",
      "Using a pipeline without specifying a model name and revision in production is not recommended.\n",
      "c:\\DL projects\\text_summarize_scratch\\text_summarizeer\\env_txt\\lib\\site-packages\\huggingface_hub\\file_download.py:149: UserWarning: `huggingface_hub` cache-system uses symlinks by default to efficiently store duplicated files but your machine does not support them in C:\\Users\\mmanoj\\.cache\\huggingface\\hub\\models--sshleifer--distilbart-cnn-12-6. Caching files will still work but in a degraded version that might require more space on your disk. This warning can be disabled by setting the `HF_HUB_DISABLE_SYMLINKS_WARNING` environment variable. For more details, see https://huggingface.co/docs/huggingface_hub/how-to-cache#limitations.\n",
      "To support symlinks on Windows, you either need to activate Developer Mode or to run Python as an administrator. In order to see activate developer mode, see this article: https://docs.microsoft.com/en-us/windows/apps/get-started/enable-your-device-for-development\n",
      "  warnings.warn(message)\n",
      "Your max_length is set to 150, but your input_length is only 108. Since this is a summarization task, where outputs shorter than the input are typically wanted, you might consider decreasing max_length manually, e.g. summarizer('...', max_length=54)\n"
     ]
    },
    {
     "name": "stdout",
     "output_type": "stream",
     "text": [
      "Original Email:\n",
      "\n",
      "Hello,\n",
      "\n",
      "I hope this email finds you well. I wanted to provide an update on the project we discussed last week. \n",
      "We've made significant progress and are on track to meet the deadline. However, there are a few challenges \n",
      "we're facing with the latest feature implementation.\n",
      "\n",
      "The main issue is related to compatibility with older versions of the software. We're exploring different \n",
      "solutions and will update you with our findings soon.\n",
      "\n",
      "Best regards,\n",
      "[Your Name]\n",
      "\n",
      "\n",
      "Summarized Email:\n",
      " The main issue is related to compatibility with older versions of the software . We're exploring different solutions and will update you with our findings soon .\n"
     ]
    }
   ],
   "source": [
    "from transformers import pipeline\n",
    "\n",
    "# Load the summarization pipeline\n",
    "summarizer = pipeline(\"summarization\")\n",
    "\n",
    "# Sample email text\n",
    "email_text = \"\"\"\n",
    "Hello,\n",
    "\n",
    "I hope this email finds you well. I wanted to provide an update on the project we discussed last week. \n",
    "We've made significant progress and are on track to meet the deadline. However, there are a few challenges \n",
    "we're facing with the latest feature implementation.\n",
    "\n",
    "The main issue is related to compatibility with older versions of the software. We're exploring different \n",
    "solutions and will update you with our findings soon.\n",
    "\n",
    "Best regards,\n",
    "[Your Name]\n",
    "\"\"\"\n",
    "\n",
    "# Summarize the email text\n",
    "summary = summarizer(email_text, max_length=150, min_length=30, do_sample=False)[0][\"summary_text\"]\n",
    "\n",
    "print(\"Original Email:\")\n",
    "print(email_text)\n",
    "print(\"\\nSummarized Email:\")\n",
    "print(summary)\n"
   ]
  }
 ],
 "metadata": {
  "kernelspec": {
   "display_name": "Python 3",
   "language": "python",
   "name": "python3"
  },
  "language_info": {
   "codemirror_mode": {
    "name": "ipython",
    "version": 3
   },
   "file_extension": ".py",
   "mimetype": "text/x-python",
   "name": "python",
   "nbconvert_exporter": "python",
   "pygments_lexer": "ipython3",
   "version": "3.8.0"
  }
 },
 "nbformat": 4,
 "nbformat_minor": 2
}
